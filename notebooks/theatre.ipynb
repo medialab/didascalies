{
 "cells": [
  {
   "cell_type": "markdown",
   "metadata": {},
   "source": [
    "# Théâtralité des sorties de parlementaires"
   ]
  },
  {
   "cell_type": "code",
   "execution_count": 1,
   "metadata": {},
   "outputs": [],
   "source": [
    "import re\n",
    "import csv"
   ]
  },
  {
   "cell_type": "markdown",
   "metadata": {},
   "source": [
    "## Paramètres"
   ]
  },
  {
   "cell_type": "code",
   "execution_count": 2,
   "metadata": {},
   "outputs": [],
   "source": [
    "INPUT = '../data/didascalies.csv'"
   ]
  },
  {
   "cell_type": "markdown",
   "metadata": {},
   "source": [
    "## Script"
   ]
  },
  {
   "cell_type": "code",
   "execution_count": 3,
   "metadata": {},
   "outputs": [],
   "source": [
    "# Acquiring data\n",
    "with open(INPUT, 'r') as f:\n",
    "    DIDASCALIES = [line for line in csv.DictReader(f)]"
   ]
  },
  {
   "cell_type": "code",
   "execution_count": 4,
   "metadata": {
    "scrolled": false
   },
   "outputs": [
    {
     "name": "stdout",
     "output_type": "stream",
     "text": [
      "Plusieurs députés sur divers bancs quittent l'hémicycle\n",
      "Les députés du groupe La France insoumise se lèvent et quittent l'hémicycle\n",
      "De nombreux députés du groupe LR et les députés du groupe GDR se lèvent et quittent l'hémicycle\n",
      "M. Erwan Balanant quitte la tribune pour aller chercher la suite de son intervention à sa place\n",
      "Mmes et MM. les députés du groupe FI se lèvent et quittent l'hémicycle\n",
      "Mmes et MM. les députés du groupe GDR se lèvent et quittent l'hémicycle\n",
      "Mmes et MM. les députés des groupes GDR et FI se lèvent et quittent l'hémicycle, suivis de quelques députés du groupe REM\n",
      "Mmes et MM. les députés des groupes LR, NG, FI et GDR quittent l'hémicycle, suivis par plusieurs députés du groupe MODEM\n",
      "Plusieurs députés des groupes LC, MODEM et LR se lèvent et quittent l'hémicycle\n",
      "Mesdames et messieurs les députés des groupes LR, UDI-Agir, NG, GDR et FI ainsi que les députés non inscrits quittent l'hémicycle\n",
      "De nombreux députés des groupes LaREM et MODEM se lèvent et applaudissent longuement. Plusieurs d'entre eux désignent la sortie aux députés du groupe FI\n",
      "Mesdames et messieurs les députés du groupe LR se lèvent et commencent à quitter l'hémicycle\n",
      "M. François Ruffin quitte la tribune\n",
      "Mme Bénédicte Taurine quitte l'hémicycle\n",
      "M. Jean Lassalle se lève et se dirige vers la sortie\n",
      "M. Jean Lassalle quitte l'hémicycle\n",
      "Mme Alexandra Louis quitte l'hémicycle\n",
      "Mesdames et messieurs les députés du groupe LR, plusieurs députés non-inscrits et plusieurs membres du groupe UDI-Agir quittent l'hémicycle\n"
     ]
    }
   ],
   "source": [
    "SORTIES_RE = re.compile('quitt|(?<!au )sort')\n",
    "\n",
    "for d in DIDASCALIES:\n",
    "    raw_intervention = d['didascalie'].lower()\n",
    "    \n",
    "    if SORTIES_RE.search(raw_intervention):\n",
    "        print(d['didascalie'])"
   ]
  }
 ],
 "metadata": {
  "kernelspec": {
   "display_name": "Python 3",
   "language": "python",
   "name": "python3"
  },
  "language_info": {
   "codemirror_mode": {
    "name": "ipython",
    "version": 3
   },
   "file_extension": ".py",
   "mimetype": "text/x-python",
   "name": "python",
   "nbconvert_exporter": "python",
   "pygments_lexer": "ipython3",
   "version": "3.6.5"
  }
 },
 "nbformat": 4,
 "nbformat_minor": 2
}
