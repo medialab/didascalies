{
 "cells": [
  {
   "cell_type": "markdown",
   "metadata": {},
   "source": [
    "# Exploration"
   ]
  },
  {
   "cell_type": "code",
   "execution_count": 1,
   "metadata": {},
   "outputs": [],
   "source": [
    "import csv\n",
    "import re\n",
    "from collections import Counter\n",
    "from itertools import islice\n",
    "from tqdm import tqdm_notebook"
   ]
  },
  {
   "cell_type": "code",
   "execution_count": 2,
   "metadata": {},
   "outputs": [],
   "source": [
    "# Params\n",
    "DATA = '../data/didascalies.csv'\n",
    "\n",
    "GROUPS = [\n",
    "    'larem',\n",
    "    'rem',\n",
    "    'modem',\n",
    "    'lr',\n",
    "    'lfi',\n",
    "    'fi',\n",
    "    'lc',\n",
    "    'udi',\n",
    "    'ng',\n",
    "    'gdr',\n",
    "    'mda'\n",
    "]\n",
    "\n",
    "GROUPS = [(g, re.compile('\\\\b' + g + '\\\\b')) for g in GROUPS]"
   ]
  },
  {
   "cell_type": "code",
   "execution_count": 3,
   "metadata": {},
   "outputs": [],
   "source": [
    "# Helpers\n",
    "def is_didascalie(line):\n",
    "    return line['nom'] == 'NULL' and line['parlementaire'] == 'NULL'\n",
    "\n",
    "def is_relevant(intervention):\n",
    "    intervention = intervention.lower()\n",
    "    \n",
    "    return (\n",
    "        'applaud' in intervention or\n",
    "        'murmur' in intervention or\n",
    "        'rire' in intervention or\n",
    "        'banc' in intervention\n",
    "    )\n",
    "\n",
    "def extract_groups(intervention):\n",
    "    intervention = intervention.lower()\n",
    "    \n",
    "    if 'bancs' not in intervention:\n",
    "        return None\n",
    "    \n",
    "    groups = [g for g, pattern in GROUPS if pattern.search(intervention)]\n",
    "    \n",
    "    return groups"
   ]
  },
  {
   "cell_type": "code",
   "execution_count": 4,
   "metadata": {},
   "outputs": [
    {
     "data": {
      "application/vnd.jupyter.widget-view+json": {
       "model_id": "bab2c3aea6644951b61d374c8fb63e5d",
       "version_major": 2,
       "version_minor": 0
      },
      "text/plain": [
       "HBox(children=(IntProgress(value=1, bar_style='info', max=1), HTML(value='')))"
      ]
     },
     "metadata": {},
     "output_type": "display_data"
    },
    {
     "name": "stdout",
     "output_type": "stream",
     "text": [
      "\n"
     ]
    }
   ],
   "source": [
    "COUNTER = Counter()\n",
    "with open(DATA, 'r') as f:\n",
    "    reader = csv.DictReader(f)\n",
    "    \n",
    "    for line in tqdm_notebook(reader):\n",
    "        if not is_didascalie(line):\n",
    "            continue\n",
    "            \n",
    "        groups = extract_groups(line['intervention'])\n",
    "\n",
    "        if groups:\n",
    "            for g in groups:\n",
    "                COUNTER[g] += 1"
   ]
  },
  {
   "cell_type": "code",
   "execution_count": 5,
   "metadata": {},
   "outputs": [
    {
     "data": {
      "text/plain": [
       "[('rem', 6106),\n",
       " ('lr', 5523),\n",
       " ('modem', 4354),\n",
       " ('fi', 3806),\n",
       " ('larem', 3374),\n",
       " ('gdr', 2318),\n",
       " ('ng', 1660),\n",
       " ('lc', 782),\n",
       " ('udi', 776),\n",
       " ('lfi', 1)]"
      ]
     },
     "execution_count": 5,
     "metadata": {},
     "output_type": "execute_result"
    }
   ],
   "source": [
    "COUNTER.most_common()"
   ]
  }
 ],
 "metadata": {
  "kernelspec": {
   "display_name": "Python 3",
   "language": "python",
   "name": "python3"
  },
  "language_info": {
   "codemirror_mode": {
    "name": "ipython",
    "version": 3
   },
   "file_extension": ".py",
   "mimetype": "text/x-python",
   "name": "python",
   "nbconvert_exporter": "python",
   "pygments_lexer": "ipython3",
   "version": "3.6.5"
  }
 },
 "nbformat": 4,
 "nbformat_minor": 2
}
